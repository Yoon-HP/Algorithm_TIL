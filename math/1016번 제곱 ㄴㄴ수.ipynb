{
 "cells": [
  {
   "cell_type": "code",
   "execution_count": 13,
   "metadata": {},
   "outputs": [
    {
     "name": "stdout",
     "output_type": "stream",
     "text": [
      "608\n"
     ]
    }
   ],
   "source": [
    "# 1016번 제곱 ㄴㄴ 수\n",
    "Min,Max=map(int,input().split())\n",
    "check=[1 for i in range(Max-Min+1)]\n",
    "cnt=0\n",
    "i=2\n",
    "while i*i<=Max:\n",
    "    m=Min//(i*i)\n",
    "    while m*(i*i)<=Max:\n",
    "        if m*i*i-Min>=0 and m*i*i-Min<=Max-Min:\n",
    "            check[m*i*i-Min]=0\n",
    "        m+=1\n",
    "    i+=1\n",
    "print(sum(check))"
   ]
  },
  {
   "cell_type": "code",
   "execution_count": null,
   "metadata": {},
   "outputs": [],
   "source": []
  }
 ],
 "metadata": {
  "kernelspec": {
   "display_name": "Python 3.6.5 64-bit ('Anaconda3')",
   "language": "python",
   "name": "python3"
  },
  "language_info": {
   "codemirror_mode": {
    "name": "ipython",
    "version": 3
   },
   "file_extension": ".py",
   "mimetype": "text/x-python",
   "name": "python",
   "nbconvert_exporter": "python",
   "pygments_lexer": "ipython3",
   "version": "3.6.5"
  },
  "orig_nbformat": 4,
  "vscode": {
   "interpreter": {
    "hash": "81e374b3269ecf0079033d8d54c3b8445e57606735e601277613154e83e18b39"
   }
  }
 },
 "nbformat": 4,
 "nbformat_minor": 2
}
