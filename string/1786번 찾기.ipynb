{
 "cells": [
  {
   "cell_type": "code",
   "execution_count": null,
   "metadata": {},
   "outputs": [],
   "source": [
    "# KMP 전처리"
   ]
  },
  {
   "cell_type": "code",
   "execution_count": 3,
   "metadata": {},
   "outputs": [
    {
     "name": "stdout",
     "output_type": "stream",
     "text": [
      "1\n",
      "16\n"
     ]
    }
   ],
   "source": [
    "def pi(P):\n",
    "    lps=[0 for i in range(len(P))]\n",
    "    \n",
    "    j=0\n",
    "    for i in range(1,len(P)):\n",
    "        while j>0 and P[i]!=P[j]:\n",
    "            j=lps[j-1]\n",
    "        if (P[i]==P[j]):\n",
    "            j+=1\n",
    "            lps[i]=j\n",
    "    return lps\n",
    "\n",
    "\n",
    "def kmp(P,T):\n",
    "    result=[]\n",
    "    cnt=0\n",
    "    lps=pi(P)\n",
    "    j=0\n",
    "    for i in range(len(T)):\n",
    "        while j>0 and T[i] != P[j]:\n",
    "            j=lps[j-1]\n",
    "            \n",
    "        if T[i]==P[j]:\n",
    "            if j==(len(P)-1):\n",
    "                result.append(i-len(P)+2)\n",
    "                cnt+=1\n",
    "                j=lps[j]\n",
    "            else:\n",
    "                j+=1\n",
    "    print(cnt)\n",
    "    for element in result:\n",
    "        print(element)\n",
    "\n",
    "T=input().strip()\n",
    "P=input().strip()\n",
    "kmp(P,T)\n"
   ]
  },
  {
   "cell_type": "code",
   "execution_count": null,
   "metadata": {},
   "outputs": [],
   "source": []
  }
 ],
 "metadata": {
  "kernelspec": {
   "display_name": "Python 3.6.5 64-bit ('Anaconda3')",
   "language": "python",
   "name": "python3"
  },
  "language_info": {
   "codemirror_mode": {
    "name": "ipython",
    "version": 3
   },
   "file_extension": ".py",
   "mimetype": "text/x-python",
   "name": "python",
   "nbconvert_exporter": "python",
   "pygments_lexer": "ipython3",
   "version": "3.6.5"
  },
  "orig_nbformat": 4,
  "vscode": {
   "interpreter": {
    "hash": "81e374b3269ecf0079033d8d54c3b8445e57606735e601277613154e83e18b39"
   }
  }
 },
 "nbformat": 4,
 "nbformat_minor": 2
}
