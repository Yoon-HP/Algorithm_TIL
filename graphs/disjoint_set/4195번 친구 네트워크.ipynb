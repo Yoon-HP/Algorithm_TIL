{
 "cells": [
  {
   "cell_type": "code",
   "execution_count": null,
   "metadata": {},
   "outputs": [],
   "source": [
    "# 4195번 친구 네트워크\n",
    "def find(u):\n",
    "    if d[u]!=u:\n",
    "        d[u]=find(d[u])\n",
    "    return d[u]\n",
    "\n",
    "def union(u,v):\n",
    "    root_u=find(u)\n",
    "    root_v=find(v)\n",
    "    if root_u != root_v:\n",
    "        d[root_v]=root_u\n",
    "        rank[root_u]+=rank[root_v]\n",
    "    \n",
    "def update(new_node):\n",
    "    global cnt\n",
    "    transfer[new_node]=cnt\n",
    "    d.append(cnt)\n",
    "    rank.append(1)\n",
    "    check.add(new_node)\n",
    "    cnt+=1\n",
    "    \n",
    "T=int(input())\n",
    "for _ in range(T):\n",
    "    F=int(input())\n",
    "    # 새로운 사람이 들어오는지 체크하는 set\n",
    "    check=set()\n",
    "    \n",
    "    # 새로운 사람의 수\n",
    "    cnt=0\n",
    "    \n",
    "    # 새로운 사람이 들어왔을 때 이를 다루기 쉽게 변형\n",
    "    transfer={}\n",
    "    \n",
    "    # 각 집합의 root를 나타냄\n",
    "    d=[]\n",
    "    \n",
    "    # 각 집합에 속하는 사람의 수 저장 (각 집합의 root에 저장)\n",
    "    rank=[]\n",
    "    for _ in range(F):\n",
    "        u,v=map(str,input().split())\n",
    "        if u not in check:\n",
    "            update(u)\n",
    "        if v not in check:\n",
    "            update(v)\n",
    "        union(transfer[u],transfer[v])\n",
    "        print(rank[find(transfer[u])])"
   ]
  }
 ],
 "metadata": {
  "kernelspec": {
   "display_name": "Python 3.6.5 64-bit ('Anaconda3')",
   "language": "python",
   "name": "python3"
  },
  "language_info": {
   "codemirror_mode": {
    "name": "ipython",
    "version": 3
   },
   "file_extension": ".py",
   "mimetype": "text/x-python",
   "name": "python",
   "nbconvert_exporter": "python",
   "pygments_lexer": "ipython3",
   "version": "3.6.5"
  },
  "orig_nbformat": 4,
  "vscode": {
   "interpreter": {
    "hash": "81e374b3269ecf0079033d8d54c3b8445e57606735e601277613154e83e18b39"
   }
  }
 },
 "nbformat": 4,
 "nbformat_minor": 2
}
