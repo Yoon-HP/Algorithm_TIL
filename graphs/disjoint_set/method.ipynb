{
 "cells": [
  {
   "cell_type": "code",
   "execution_count": null,
   "metadata": {},
   "outputs": [],
   "source": [
    "# 각 집합의 루트를 찾아서 반환하는 함수\n",
    "\n",
    "# 예시\n",
    "n=100\n",
    "\n",
    "# 각 노드의 초기 집합 (자기 자신만 포함하고 있음)\n",
    "d=[i for i in range(n)]\n",
    "\n",
    "def find(u):\n",
    "    if d[u]!=u:\n",
    "        d[u]=find(d[u])\n",
    "    return d[u]\n",
    "\n",
    "\n",
    "# 두 노드의 집합을 합치는 함수\n",
    "def union(u,v):\n",
    "    root_u=find(u)\n",
    "    root_v=find(v)\n",
    "    d[root_v]=root_u"
   ]
  }
 ],
 "metadata": {
  "language_info": {
   "name": "python"
  },
  "orig_nbformat": 4
 },
 "nbformat": 4,
 "nbformat_minor": 2
}
