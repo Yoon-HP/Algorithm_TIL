{
 "cells": [
  {
   "cell_type": "code",
   "execution_count": 1,
   "metadata": {},
   "outputs": [
    {
     "name": "stdout",
     "output_type": "stream",
     "text": [
      "YES\n"
     ]
    }
   ],
   "source": [
    "# 1976번 여행 가자\n",
    "\n",
    "def find(u):\n",
    "    if d[u]!=u:\n",
    "        d[u]=find(d[u])\n",
    "    return d[u]\n",
    "\n",
    "def union(u,v):\n",
    "    root_u=find(u)\n",
    "    root_v=find(v)\n",
    "    d[root_v]=root_u\n",
    "\n",
    "n=int(input())\n",
    "m=int(input())\n",
    "d=[i for i in range(n+1)]\n",
    "\n",
    "for i in range(1,n+1):\n",
    "    row=[-1]+list(map(int,input().split()))\n",
    "    for j in range(1,len(row)):\n",
    "        if row[j]==1:\n",
    "            union(i,j)\n",
    "            \n",
    "check=list(map(int,input().split()))\n",
    "start_root=find(check[0])\n",
    "\n",
    "ans=True\n",
    "for i in range(1,len(check)):\n",
    "    if find(check[i])!=start_root:\n",
    "        ans=False\n",
    "        break\n",
    "if ans:\n",
    "    print(\"YES\")\n",
    "else:\n",
    "    print(\"NO\")"
   ]
  }
 ],
 "metadata": {
  "kernelspec": {
   "display_name": "Python 3.6.5 64-bit ('Anaconda3')",
   "language": "python",
   "name": "python3"
  },
  "language_info": {
   "codemirror_mode": {
    "name": "ipython",
    "version": 3
   },
   "file_extension": ".py",
   "mimetype": "text/x-python",
   "name": "python",
   "nbconvert_exporter": "python",
   "pygments_lexer": "ipython3",
   "version": "3.6.5"
  },
  "orig_nbformat": 4,
  "vscode": {
   "interpreter": {
    "hash": "81e374b3269ecf0079033d8d54c3b8445e57606735e601277613154e83e18b39"
   }
  }
 },
 "nbformat": 4,
 "nbformat_minor": 2
}
