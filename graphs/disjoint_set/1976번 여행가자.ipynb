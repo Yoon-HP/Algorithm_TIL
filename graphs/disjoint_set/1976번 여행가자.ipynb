{
 "cells": [
  {
   "cell_type": "code",
   "execution_count": null,
   "metadata": {},
   "outputs": [],
   "source": [
    "# 1976번 여행 가자\n",
    "\n",
    "def find(u):\n",
    "    if d[u]!=u:\n",
    "        d[u]=find(d[u])\n",
    "    return d[u]\n",
    "\n",
    "def union(u,v):\n",
    "    root_u=find(u)\n",
    "    root_v=find(v)\n",
    "    d[root_v]=root_u\n",
    "\n",
    "n=int(input())\n",
    "m=int(input())\n",
    "d=[i for i in range(1,n+1)]\n",
    "for i in range(1,m+1):\n",
    "    row=[-1]+list(map(int,input().split()))\n",
    "    for j in range(1,len(row)):\n",
    "        if row[j]==1:\n",
    "            union(i,j)\n",
    "            \n",
    "check=list(map(int,input().split()))\n",
    "start_root=find(check[0])\n",
    "\n",
    "ans=True\n",
    "for i in range(1,len(check)):\n",
    "    if find(i)!=start_root:\n",
    "        ans=False\n",
    "        break\n",
    "if ans:\n",
    "    print(\"YES\")\n",
    "else:\n",
    "    print(\"NO\")"
   ]
  }
 ],
 "metadata": {
  "language_info": {
   "name": "python"
  },
  "orig_nbformat": 4
 },
 "nbformat": 4,
 "nbformat_minor": 2
}
