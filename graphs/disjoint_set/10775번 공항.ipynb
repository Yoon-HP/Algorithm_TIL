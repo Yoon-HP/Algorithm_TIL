{
 "cells": [
  {
   "cell_type": "code",
   "execution_count": null,
   "metadata": {},
   "outputs": [],
   "source": [
    "# 10775번 공항\n",
    "\n",
    "'''\n",
    "각 비행기는 g가 주어졌을 때 g번째 포트에 도킹하는걸 우선으로 해야함.\n",
    "g번째 포트가 이미 차 있는 경우 g보다 작으면서 자리가 있는 포트를 찾음\n",
    "시간복잡도를 줄이기 위해 분리집합을 사용해 어디부터 탐색해야 하는지 정한다.\n",
    "'''\n",
    "\n",
    "def find(u):\n",
    "    if d[u]!=u:\n",
    "        d[u]=find(d[u])\n",
    "    return d[u]\n",
    "\n",
    "def union(u,v):\n",
    "    root_u=find(u)\n",
    "    root_v=find(v)\n",
    "    # root_u,root_v중 작은 것이 root가 됨\n",
    "    d[max(root_u,root_v)]=min(root_u,root_v)\n",
    "\n",
    "G=int(input())\n",
    "P=int(input())\n",
    "\n",
    "d=[i for i in range(G+1)]\n",
    "\n",
    "check=[False]*(G+1)\n",
    "\n",
    "cnt=0\n",
    "flag=1\n",
    "for _ in range(P):\n",
    "    g=int(input())\n",
    "    if flag:\n",
    "        if not check[find(g)]:\n",
    "            if find(g)<=0:\n",
    "                flag=0\n",
    "                continue\n",
    "            cnt+=1\n",
    "            check[find(g)]=True\n",
    "            union(find(g),find(g)-1)\n",
    "print(cnt)\n"
   ]
  }
 ],
 "metadata": {
  "kernelspec": {
   "display_name": "Python 3.6.5 64-bit ('Anaconda3')",
   "language": "python",
   "name": "python3"
  },
  "language_info": {
   "codemirror_mode": {
    "name": "ipython",
    "version": 3
   },
   "file_extension": ".py",
   "mimetype": "text/x-python",
   "name": "python",
   "nbconvert_exporter": "python",
   "pygments_lexer": "ipython3",
   "version": "3.6.5"
  },
  "orig_nbformat": 4,
  "vscode": {
   "interpreter": {
    "hash": "81e374b3269ecf0079033d8d54c3b8445e57606735e601277613154e83e18b39"
   }
  }
 },
 "nbformat": 4,
 "nbformat_minor": 2
}
