{
 "cells": [
  {
   "cell_type": "code",
   "execution_count": null,
   "metadata": {},
   "outputs": [],
   "source": [
    "#9370번 미확인 도착지\n",
    "import heapq\n",
    "\n",
    "def dijkstra(graph,node,n):\n",
    "    min_Q=[[0,node]]\n",
    "    stpath=[float('inf')]*(n+1)\n",
    "    stpath[node]=0\n",
    "    while min_Q:\n",
    "        d,u=heapq.heappop(min_Q)\n",
    "        if stpath[u]<d:\n",
    "            continue\n",
    "        for v,w in graph[u]:\n",
    "            temp_w=w+d\n",
    "            if temp_w<stpath[v]:\n",
    "                stpath[v]=temp_w\n",
    "                heapq.heappush(min_Q,[temp_w,v])\n",
    "    return stpath\n",
    "\n",
    "T=int(input())\n",
    "for _ in range(T):\n",
    "    n,m,t=map(int,input().split())\n",
    "    s,g,h=map(int,input().split())\n",
    "    \n",
    "    graph=[[] for _ in range(n+1)]\n",
    "    for _ in range(m):\n",
    "        a,b,d=map(int,input().split())\n",
    "        if (a==g and b==h) or (a==h and b==g):\n",
    "            d-=0.1\n",
    "        graph[a].append([b,d])\n",
    "        graph[b].append([a,d])\n",
    "        \n",
    "    candidate_node=[]\n",
    "    for _ in range(t):\n",
    "        candidate_node.append(int(input()))\n",
    "    candidate_node.sort()\n",
    "    path=dijkstra(graph,s,n)\n",
    "    for i in candidate_node:\n",
    "        if type(path[i])==float and path[i]!=float('inf'):\n",
    "            print(i,end=' ')\n",
    "    print()\n",
    "            \n",
    "        "
   ]
  },
  {
   "cell_type": "markdown",
   "metadata": {},
   "source": [
    "최단경로가 하나가 아닐 수도 있음!\n",
    "경로를 역추적 하는 방법 X\n",
    "필수로 지나야 하는 경로에 -0.1을 빼서 여러 개의 최단 경로 중 h와g를 지나는 경로를 선택"
   ]
  }
 ],
 "metadata": {
  "kernelspec": {
   "display_name": "Python 3.6.5 64-bit ('Anaconda3')",
   "language": "python",
   "name": "python3"
  },
  "language_info": {
   "codemirror_mode": {
    "name": "ipython",
    "version": 3
   },
   "file_extension": ".py",
   "mimetype": "text/x-python",
   "name": "python",
   "nbconvert_exporter": "python",
   "pygments_lexer": "ipython3",
   "version": "3.6.5"
  },
  "orig_nbformat": 4,
  "vscode": {
   "interpreter": {
    "hash": "81e374b3269ecf0079033d8d54c3b8445e57606735e601277613154e83e18b39"
   }
  }
 },
 "nbformat": 4,
 "nbformat_minor": 2
}
