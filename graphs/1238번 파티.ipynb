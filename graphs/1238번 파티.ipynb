{
 "cells": [
  {
   "cell_type": "code",
   "execution_count": null,
   "metadata": {},
   "outputs": [],
   "source": [
    "# 1238번 파티 <처음 내 풀이>\n",
    "\n",
    "import heapq\n",
    "N,M,X=map(int,input().split())\n",
    "path=[[] for _ in range(N+1)]\n",
    "for _ in range(M):\n",
    "    u,v,w=map(int,input().split())\n",
    "    path[u].append([v,w])\n",
    "\n",
    "\n",
    "def dijkstra(start):\n",
    "    min_Q=[]\n",
    "    stpath[start]=0\n",
    "    heapq.heappush(min_Q,[0,start])\n",
    "    while min_Q:\n",
    "        d,u=heapq.heappop(min_Q)\n",
    "        if start!=X and u==X:\n",
    "            break\n",
    "        for v,w in path[u]:\n",
    "            temp_w=w+d\n",
    "            if temp_w<stpath[v]:\n",
    "                stpath[v]=temp_w\n",
    "                heapq.heappush(min_Q,[temp_w,v])\n",
    "                \n",
    "result=[0]*(N+1)\n",
    "stpath=[float('inf')]*(N+1)\n",
    "dijkstra(X)\n",
    "for i in range(len(stpath)):\n",
    "    result[i]+=stpath[i]\n",
    "for i in range(1,N+1):\n",
    "    stpath=[float('inf')]*(N+1)\n",
    "    dijkstra(i)\n",
    "    result[i]+=stpath[X]\n",
    "result[0]=0\n",
    "print(max(result))\n"
   ]
  },
  {
   "cell_type": "code",
   "execution_count": null,
   "metadata": {},
   "outputs": [],
   "source": [
    "# 1238번 파티 <개선 된 풀이> 각 노드에서 목표노드까지의 최단거리를 역방향 그래프를 통해 한번의 다익스트라로 계산함\n",
    "\n",
    "import heapq\n",
    "N,M,X=map(int,input().split())\n",
    "front=[[] for _ in range(N+1)]\n",
    "back=[[] for _ in range(N+1)]\n",
    "for _ in range(M):\n",
    "    u,v,w=map(int,input().split())\n",
    "    # 노드 X에서 각 노드로 가는 최단경로를 구하는데 사용\n",
    "    front[u].append([v,w])\n",
    "    # 각 노드에서 노드 X까지 가는 최단경로를 구하는데 사용\n",
    "    back[v].append([u,w])\n",
    "\n",
    "def dijkstra(graph):\n",
    "    min_Q=[[0,X]]\n",
    "    stpath=[float('inf')]*(N+1)\n",
    "    stpath[X]=0\n",
    "    while min_Q:\n",
    "        d,u=heapq.heappop(min_Q)\n",
    "        # 이미 최단경로가 확정된 노드에 대해 불필요한 연산을 줄임\n",
    "        if stpath[u]<d:\n",
    "            continue\n",
    "        for v,w in graph[u]:\n",
    "            temp_w=w+d\n",
    "            if temp_w<stpath[v]:\n",
    "                stpath[v]=temp_w\n",
    "                heapq.heappush(min_Q,[temp_w,v])\n",
    "    for i in range(1,len(stpath)):\n",
    "        result[i]+=stpath[i]\n",
    "                \n",
    "result=[0]*(N+1)\n",
    "dijkstra(front)\n",
    "dijkstra(back)\n",
    "print(max(result))"
   ]
  },
  {
   "cell_type": "markdown",
   "metadata": {},
   "source": [
    "알고리즘 분류: 그래프 이론, 다익스트라\n",
    "처음풀이: 564ms \n",
    "개선된 풀이: 88ms "
   ]
  }
 ],
 "metadata": {
  "kernelspec": {
   "display_name": "Python 3.6.5 64-bit ('Anaconda3')",
   "language": "python",
   "name": "python3"
  },
  "language_info": {
   "codemirror_mode": {
    "name": "ipython",
    "version": 3
   },
   "file_extension": ".py",
   "mimetype": "text/x-python",
   "name": "python",
   "nbconvert_exporter": "python",
   "pygments_lexer": "ipython3",
   "version": "3.6.5"
  },
  "orig_nbformat": 4,
  "vscode": {
   "interpreter": {
    "hash": "81e374b3269ecf0079033d8d54c3b8445e57606735e601277613154e83e18b39"
   }
  }
 },
 "nbformat": 4,
 "nbformat_minor": 2
}
