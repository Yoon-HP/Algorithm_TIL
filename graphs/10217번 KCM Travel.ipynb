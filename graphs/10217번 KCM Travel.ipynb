{
 "cells": [
  {
   "cell_type": "code",
   "execution_count": null,
   "metadata": {},
   "outputs": [],
   "source": [
    "# 10217번 KCM Travel \n",
    "\n",
    "def ans():\n",
    "    N,M,K=map(int,input().split())\n",
    "    Map=[[] for _ in range(N+1)]\n",
    "    for _ in range(K):\n",
    "        u,v,c,d=map(int,input().split())\n",
    "        Map[u].append([v,c,d])\n",
    "    d=[[float('inf')]*(M+1) for _ in range(N+1)]\n",
    "    # 1번 노드에서 출발하므로 비용을 0으로 초기화\n",
    "    d[1][0]=0\n",
    "    for i in range(M+1):\n",
    "        for j in range(1,N+1):\n",
    "            if d[j][i]!=float('inf'):\n",
    "                for v,c,d_ in Map[j]:\n",
    "                    if i+c<=M:\n",
    "                        d[v][i+c]=min(d[v][i+c],d[j][i]+d_)\n",
    "    result=min(d[N])\n",
    "    if result==float('inf'):\n",
    "        print(\"Poor KCM\")\n",
    "    else:\n",
    "        print(result)\n",
    "T=int(input())\n",
    "for _ in range(T):\n",
    "    ans()"
   ]
  },
  {
   "cell_type": "markdown",
   "metadata": {},
   "source": [
    "다익스트라 알고리즘의 경우 그리디하게 해를 찾아나간다. 그러나 이 문제의 경우 비용이라는 변수가 추가되어 현재 상황에서 어떤 경로를 선택해야 조건을 만족하는 최적해인지 알 수 없다.\n",
    "다익스트라인 척 하는 냅색문제?\n",
    "M 이하라는 조건 -> 냅색알고리즘\n",
    "\n",
    "갈길이 멀다!"
   ]
  },
  {
   "cell_type": "markdown",
   "metadata": {},
   "source": [
    "시간복잡도를 줄이는 팁\n",
    "함수 내에서 선언한 변수는 런타임에 추가될 수 없어 배열에 저장해 접근이 더 빠름"
   ]
  }
 ],
 "metadata": {
  "kernelspec": {
   "display_name": "Python 3.6.5 64-bit ('Anaconda3')",
   "language": "python",
   "name": "python3"
  },
  "language_info": {
   "codemirror_mode": {
    "name": "ipython",
    "version": 3
   },
   "file_extension": ".py",
   "mimetype": "text/x-python",
   "name": "python",
   "nbconvert_exporter": "python",
   "pygments_lexer": "ipython3",
   "version": "3.6.5"
  },
  "orig_nbformat": 4,
  "vscode": {
   "interpreter": {
    "hash": "81e374b3269ecf0079033d8d54c3b8445e57606735e601277613154e83e18b39"
   }
  }
 },
 "nbformat": 4,
 "nbformat_minor": 2
}
