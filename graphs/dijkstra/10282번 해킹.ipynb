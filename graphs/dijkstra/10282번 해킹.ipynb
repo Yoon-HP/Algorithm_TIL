{
 "cells": [
  {
   "cell_type": "code",
   "execution_count": null,
   "metadata": {},
   "outputs": [],
   "source": [
    "# 10282번 해킹\n",
    "import heapq\n",
    "\n",
    "def ans():\n",
    "    # c가 해킹당한 컴퓨터!\n",
    "    n,d,c=map(int,input().split())\n",
    "    graph=[[] for _ in range(n+1)]\n",
    "    visit=[False]*(n+1)\n",
    "    for _ in range(d):\n",
    "        a,b,s=map(int,input().split())\n",
    "        graph[b].append([a,s])\n",
    "    cnt=0\n",
    "    time=0\n",
    "    # time\n",
    "    h=[[0,c]]\n",
    "    sttime=[float('inf')]*(n+1)\n",
    "    sttime[c]=0\n",
    "    while h:\n",
    "        t,a=heapq.heappop(h)\n",
    "        if not visit[a]:\n",
    "            cnt+=1\n",
    "            visit[a]=True\n",
    "        if sttime[a]<t:\n",
    "            continue\n",
    "        for b,s in graph[a]:\n",
    "            temp_t=t+s\n",
    "            if temp_t<sttime[b]:\n",
    "                sttime[b]=temp_t\n",
    "                heapq.heappush(h,[temp_t,b])\n",
    "            \n",
    "    for j in sttime:\n",
    "        if j!=float('inf'):\n",
    "            time=max(time,j)\n",
    "                \n",
    "    print(f'{cnt} {time}')\n",
    "\n",
    "T=int(input())\n",
    "for _ in range(T):\n",
    "    ans()"
   ]
  }
 ],
 "metadata": {
  "kernelspec": {
   "display_name": "Python 3.6.5 64-bit ('Anaconda3')",
   "language": "python",
   "name": "python3"
  },
  "language_info": {
   "codemirror_mode": {
    "name": "ipython",
    "version": 3
   },
   "file_extension": ".py",
   "mimetype": "text/x-python",
   "name": "python",
   "nbconvert_exporter": "python",
   "pygments_lexer": "ipython3",
   "version": "3.6.5"
  },
  "orig_nbformat": 4,
  "vscode": {
   "interpreter": {
    "hash": "81e374b3269ecf0079033d8d54c3b8445e57606735e601277613154e83e18b39"
   }
  }
 },
 "nbformat": 4,
 "nbformat_minor": 2
}
