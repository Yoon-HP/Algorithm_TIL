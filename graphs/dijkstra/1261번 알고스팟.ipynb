{
 "cells": [
  {
   "cell_type": "code",
   "execution_count": null,
   "metadata": {},
   "outputs": [],
   "source": [
    "# 1261번 알고스팟 bfs+우선순위 큐 \n",
    "\n",
    "from collections import deque\n",
    "M,N=map(int,input().split())\n",
    "dx=[1,-1,0,0]\n",
    "dy=[0,0,1,-1]\n",
    "Map=[list(input()) for _ in range(N)]\n",
    "check=[[False]*M for _ in range(N)]\n",
    "q=deque([[0,0,0]])\n",
    "check[0][0]=True\n",
    "while q:\n",
    "    u,v,cnt=q.popleft()\n",
    "    if (u==N-1 and v==M-1):\n",
    "        print(cnt)\n",
    "        break\n",
    "    for i in range(4):\n",
    "        a=u+dx[i]\n",
    "        b=v+dy[i]\n",
    "        if 0<=a<N and 0<=b<M and not check[a][b]:\n",
    "            if Map[a][b]=='0':\n",
    "                q.appendleft([a,b,cnt])\n",
    "            else:\n",
    "                q.append([a,b,cnt+1])\n",
    "            check[a][b]=True\n",
    "            "
   ]
  },
  {
   "cell_type": "code",
   "execution_count": null,
   "metadata": {},
   "outputs": [],
   "source": [
    "# 1261번 알고스팟 다익스트라\n",
    "import heapq\n",
    "\n",
    "M,N=map(int,input().split())\n",
    "dx=[1,-1,0,0]\n",
    "dy=[0,0,1,-1]\n",
    "Map=[list(input()) for _ in range(N)]\n",
    "def dijkstra():\n",
    "    visit=[[False]*M for _ in range(N)]\n",
    "    heap=[]\n",
    "    heapq.heappush(heap,[0,0,0])\n",
    "    visit[0][0]=True\n",
    "    while heap:\n",
    "        cnt,u,v=heapq.heappop(heap)\n",
    "        if u==N-1 and v==M-1:\n",
    "            print(cnt)\n",
    "            break\n",
    "        for i in range(4):\n",
    "            a=u+dx[i]\n",
    "            b=v+dy[i]\n",
    "            if 0<=a<N and 0<=b<M and not visit[a][b]:\n",
    "                if Map[a][b]=='1':\n",
    "                    heapq.heappush(heap,[cnt+1,a,b])\n",
    "                else:\n",
    "                    heapq.heappush(heap,[cnt,a,b])\n",
    "                visit[a][b]=True\n",
    "dijkstra()\n",
    "    "
   ]
  }
 ],
 "metadata": {
  "kernelspec": {
   "display_name": "Python 3.6.5 64-bit ('Anaconda3')",
   "language": "python",
   "name": "python3"
  },
  "language_info": {
   "codemirror_mode": {
    "name": "ipython",
    "version": 3
   },
   "file_extension": ".py",
   "mimetype": "text/x-python",
   "name": "python",
   "nbconvert_exporter": "python",
   "pygments_lexer": "ipython3",
   "version": "3.6.5"
  },
  "orig_nbformat": 4,
  "vscode": {
   "interpreter": {
    "hash": "81e374b3269ecf0079033d8d54c3b8445e57606735e601277613154e83e18b39"
   }
  }
 },
 "nbformat": 4,
 "nbformat_minor": 2
}
