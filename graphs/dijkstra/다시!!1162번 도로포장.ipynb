{
 "cells": [
  {
   "cell_type": "code",
   "execution_count": null,
   "metadata": {},
   "outputs": [],
   "source": [
    "# 1162번 도로포장\n",
    "\n",
    "# 실패\n",
    "def ans():\n",
    "    N,M,K=map(int,input().split())\n",
    "    graph=[[] for _ in range(N+1)]\n",
    "    for _ in range(M):\n",
    "        u,v,t=map(int,input().split())\n",
    "        graph[u].append([v,t])\n",
    "        graph[v].append([u,t])\n",
    "    \n",
    "    dp=[[float('inf')]*(K+1) for _ in range(N+1)]\n",
    "    for i in range(K+1):\n",
    "        dp[1][i]=0\n",
    "    for i in range(K+1):\n",
    "        for j in range(1,N+1):\n",
    "            if dp[j][i]!=float('inf'):\n",
    "                for v,w in graph[j]:\n",
    "                    if i==0:\n",
    "                        dp[v][i]=min(dp[v][i],dp[j][i]+w)\n",
    "                    else:\n",
    "                        dp[v][i]=min(dp[v][i],dp[j][i]+w,dp[j][i-1])\n",
    "                    for k in range(i+1,K+1):\n",
    "                        if dp[v][i]<dp[v][k]:\n",
    "                            dp[v][k]=dp[v][i]\n",
    "    print(min(dp[N]))\n",
    "\n",
    "ans()"
   ]
  },
  {
   "cell_type": "code",
   "execution_count": null,
   "metadata": {},
   "outputs": [],
   "source": [
    "# cnt 변수 도입.\n",
    "\n",
    "#성공\n",
    "import heapq\n",
    "def ans():\n",
    "    N,M,K=map(int,input().split())\n",
    "    graph=[[] for _ in range(N+1)]\n",
    "    for _ in range(M):\n",
    "        u,v,t=map(int,input().split())\n",
    "        graph[u].append([v,t])\n",
    "        graph[v].append([u,t])\n",
    "        \n",
    "    time=[[float('inf')]*(K+1) for _ in range(N+1)]\n",
    "    time[1][0]=0\n",
    "    \n",
    "    h=[[0,1,0]]\n",
    "    while h:\n",
    "        t,u,cnt=heapq.heappop(h)\n",
    "        if time[u][cnt]<t:\n",
    "            continue\n",
    "        for v,w in graph[u]:\n",
    "            temp_t=t+w\n",
    "            if time[v][cnt]>temp_t:\n",
    "                time[v][cnt]=temp_t\n",
    "                heapq.heappush(h,[temp_t,v,cnt])\n",
    "            if cnt<K and time[v][cnt+1]>t:\n",
    "                time[v][cnt+1]=t\n",
    "                heapq.heappush(h,[t,v,cnt+1])\n",
    "    \n",
    "    print(min(time[N]))\n",
    "ans()"
   ]
  },
  {
   "cell_type": "markdown",
   "metadata": {},
   "source": [
    "너무 어렵다!"
   ]
  }
 ],
 "metadata": {
  "kernelspec": {
   "display_name": "Python 3.6.5 64-bit ('Anaconda3')",
   "language": "python",
   "name": "python3"
  },
  "language_info": {
   "codemirror_mode": {
    "name": "ipython",
    "version": 3
   },
   "file_extension": ".py",
   "mimetype": "text/x-python",
   "name": "python",
   "nbconvert_exporter": "python",
   "pygments_lexer": "ipython3",
   "version": "3.6.5"
  },
  "orig_nbformat": 4,
  "vscode": {
   "interpreter": {
    "hash": "81e374b3269ecf0079033d8d54c3b8445e57606735e601277613154e83e18b39"
   }
  }
 },
 "nbformat": 4,
 "nbformat_minor": 2
}
