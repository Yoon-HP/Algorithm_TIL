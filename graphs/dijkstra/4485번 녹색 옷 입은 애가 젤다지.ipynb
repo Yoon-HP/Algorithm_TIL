{
 "cells": [
  {
   "cell_type": "code",
   "execution_count": null,
   "metadata": {},
   "outputs": [],
   "source": [
    "# 4485번 녹색 옷 입은 애가 젤다지? 다익스트라\n",
    "import heapq\n",
    "cnt=0\n",
    "dx=[1,-1,0,0]\n",
    "dy=[0,0,1,-1]\n",
    "while True:\n",
    "    N=int(input())\n",
    "    if N==0:\n",
    "        break\n",
    "    else:\n",
    "        cnt+=1\n",
    "        Map=[list(map(int,input().split())) for _ in range(N)]\n",
    "        visit=[[False]*N for _ in range(N)]\n",
    "        heap=[]\n",
    "        heapq.heappush(heap,[Map[0][0],0,0])\n",
    "        visit[0][0]=True\n",
    "        while heap:\n",
    "            lost_m,u,v=heapq.heappop(heap)\n",
    "            if u==N-1 and v==N-1:\n",
    "                print(f'Problem {cnt}: {lost_m}')\n",
    "            for i in range(4):\n",
    "                a=u+dx[i]\n",
    "                b=v+dy[i]\n",
    "                if 0<=a<N and 0<=b<N and not visit[a][b]:\n",
    "                    heapq.heappush(heap,[lost_m+Map[a][b],a,b])\n",
    "                    visit[a][b]=True"
   ]
  }
 ],
 "metadata": {
  "kernelspec": {
   "display_name": "Python 3.6.5 64-bit ('Anaconda3')",
   "language": "python",
   "name": "python3"
  },
  "language_info": {
   "codemirror_mode": {
    "name": "ipython",
    "version": 3
   },
   "file_extension": ".py",
   "mimetype": "text/x-python",
   "name": "python",
   "nbconvert_exporter": "python",
   "pygments_lexer": "ipython3",
   "version": "3.6.5"
  },
  "orig_nbformat": 4,
  "vscode": {
   "interpreter": {
    "hash": "81e374b3269ecf0079033d8d54c3b8445e57606735e601277613154e83e18b39"
   }
  }
 },
 "nbformat": 4,
 "nbformat_minor": 2
}
