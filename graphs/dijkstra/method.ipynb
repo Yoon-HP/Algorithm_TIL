{
 "cells": [
  {
   "cell_type": "code",
   "execution_count": null,
   "metadata": {},
   "outputs": [],
   "source": [
    "#다익스트라 기본 틀\n",
    "import heapq\n",
    "\n",
    "#예시-노드 수\n",
    "N=100\n",
    "\n",
    "\n",
    "def dijkstra(graph,X):\n",
    "    min_Q=[[0,X]]\n",
    "    stpath=[float('inf')]*(N+1)\n",
    "    stpath[X]=0\n",
    "    while min_Q:\n",
    "        d,u=heapq.heappop(min_Q)\n",
    "        # 이미 최단경로가 확정된 노드에 대해 불필요한 연산을 줄임\n",
    "        if stpath[u]<d:\n",
    "            continue\n",
    "        for v,w in graph[u]:\n",
    "            temp_w=w+d\n",
    "            if temp_w<stpath[v]:\n",
    "                stpath[v]=temp_w\n",
    "                heapq.heappush(min_Q,[temp_w,v])"
   ]
  }
 ],
 "metadata": {
  "language_info": {
   "name": "python"
  },
  "orig_nbformat": 4
 },
 "nbformat": 4,
 "nbformat_minor": 2
}
