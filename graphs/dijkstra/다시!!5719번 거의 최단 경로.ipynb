{
 "cells": [
  {
   "cell_type": "code",
   "execution_count": 14,
   "metadata": {},
   "outputs": [
    {
     "name": "stdout",
     "output_type": "stream",
     "text": [
      "[{0}, {0}, {0}, {0}, {0}, {1}, {3, 5}]\n",
      "{0, 1, 3, 5, 6}\n",
      "5\n",
      "[{0}, {0}, {1}, {1}]\n",
      "{0, 1, 2}\n",
      "-1\n",
      "[{0}, {0}, {0}, {0}, {3}, {2}]\n",
      "{0, 1}\n",
      "6\n"
     ]
    }
   ],
   "source": [
    "# 5719번 거의 최단 경로  (경로를 지우지 않는 경우 33%에서 시간초과)\n",
    "import sys\n",
    "import heapq\n",
    "\n",
    "def node_check(node):\n",
    "    for i in shortest_path_check[node]:\n",
    "        if i!=S:\n",
    "            if i not in via_node:\n",
    "                via_node.add(i)\n",
    "                node_check(i)\n",
    "\n",
    "while True:\n",
    "    N,M=map(int,input().split())\n",
    "    if N==0 and M==0:\n",
    "        break\n",
    "    S,D=map(int,input().split())\n",
    "    \n",
    "    graph=[[] for _ in range(N)]\n",
    "    \n",
    "    for _ in range(M):\n",
    "        u,v,p=map(int,input().split())\n",
    "        graph[u].append([v,p])\n",
    "    \n",
    "    # 최단경로를 제외할 때 이용\n",
    "    shortest_path_check=[set() for _ in range(N)]\n",
    "    \n",
    "    # 다익스트라 구현 <모든 최단경로 찾기>\n",
    "    h=[[0,S,S]]\n",
    "    dist=[float('inf')]*N\n",
    "    dist[S]=0\n",
    "    visit=[False]*N\n",
    "    visit[S]=True\n",
    "    while h:\n",
    "        d,u,prev=heapq.heappop(h)\n",
    "        if prev==D:\n",
    "            break\n",
    "        if d>dist[u]:\n",
    "            continue\n",
    "        visit[u]=True\n",
    "        shortest_path_check[u].add(prev)\n",
    "        for v,p in graph[u]:\n",
    "            temp_d=d+p\n",
    "            if temp_d<=dist[v]:\n",
    "                if visit[v]:\n",
    "                    shortest_path_check[v].add(u)\n",
    "                dist[v]=temp_d\n",
    "                heapq.heappush(h,[temp_d,v,u])\n",
    "    \n",
    "    via_node=set([S,D])\n",
    "    node_check(D)\n",
    "    \n",
    "    near_h=[[0,S]]\n",
    "    near_dist=[float('inf')]*N\n",
    "    near_dist[S]=0\n",
    "    while near_h:\n",
    "        d,u=heapq.heappop(near_h)\n",
    "        if d>near_dist[u]:\n",
    "            continue\n",
    "        if u==D:\n",
    "            print(d)\n",
    "            break\n",
    "        for v,p in graph[u]:\n",
    "            if v in via_node and u in via_node:\n",
    "                if u not in shortest_path_check[v]:\n",
    "                    temp_d=d+p\n",
    "                    if temp_d<near_dist[v]:\n",
    "                        near_dist[v]=temp_d\n",
    "                        heapq.heappush(near_h,[temp_d,v])\n",
    "            else:\n",
    "                temp_d=d+p\n",
    "                if temp_d<near_dist[v]:\n",
    "                    near_dist[v]=temp_d\n",
    "                    heapq.heappush(near_h,[temp_d,v])\n",
    "                    \n",
    "    if near_dist[D]==float('inf'):\n",
    "        print(-1)"
   ]
  },
  {
   "cell_type": "code",
   "execution_count": null,
   "metadata": {},
   "outputs": [],
   "source": [
    "# 5719번 거의 최단 경로  (경로를 지우는 경우)\n"
   ]
  }
 ],
 "metadata": {
  "kernelspec": {
   "display_name": "Python 3.6.5 64-bit ('Anaconda3')",
   "language": "python",
   "name": "python3"
  },
  "language_info": {
   "codemirror_mode": {
    "name": "ipython",
    "version": 3
   },
   "file_extension": ".py",
   "mimetype": "text/x-python",
   "name": "python",
   "nbconvert_exporter": "python",
   "pygments_lexer": "ipython3",
   "version": "3.6.5"
  },
  "orig_nbformat": 4,
  "vscode": {
   "interpreter": {
    "hash": "81e374b3269ecf0079033d8d54c3b8445e57606735e601277613154e83e18b39"
   }
  }
 },
 "nbformat": 4,
 "nbformat_minor": 2
}
