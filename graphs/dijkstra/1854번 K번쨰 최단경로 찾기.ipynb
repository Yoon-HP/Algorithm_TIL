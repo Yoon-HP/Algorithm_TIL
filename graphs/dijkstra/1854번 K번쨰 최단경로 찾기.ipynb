{
 "cells": [
  {
   "cell_type": "code",
   "execution_count": null,
   "metadata": {},
   "outputs": [],
   "source": [
    "# 1854번 K번째 최단경로 찾기\n",
    "import heapq\n",
    "\n",
    "n,m,k=map(int,input().split())\n",
    "graph=[[] for _ in range(n+1)]\n",
    "\n",
    "for _ in range(m):\n",
    "    a,b,c=map(int,input().split())\n",
    "    graph[a].append([b,c])\n",
    "\n",
    "k_time=[[float('inf')]*k for _ in range(n+1)]\n",
    "heap=[[0,1]]\n",
    "k_time[1][0]=0\n",
    "\n",
    "while heap:\n",
    "    t,u=heapq.heappop(heap)\n",
    "    for v,w in graph[u]:\n",
    "        temp_time=t+w\n",
    "        if k_time[v][k-1]>temp_time:\n",
    "            k_time[v][k-1]=temp_time\n",
    "            k_time[v].sort()\n",
    "            heapq.heappush(heap,[temp_time,v])\n",
    "            \n",
    "for i in range(1,n+1):\n",
    "    if k_time[i][k-1]!=float('inf'):\n",
    "        print(k_time[i][k-1])\n",
    "    else:\n",
    "        print(-1)"
   ]
  },
  {
   "cell_type": "code",
   "execution_count": null,
   "metadata": {},
   "outputs": [],
   "source": [
    "n,m,k=map(int,input().split())\n",
    "graph=[[] for _ in range(n+1)]\n",
    "\n",
    "for _ in range(m):\n",
    "    a,b,c=map(int,input().split())\n",
    "    graph[a].append([b,c])\n",
    "\n",
    "count=[0]*(n+1)\n",
    "count[1]=1\n",
    "k_time=[[] for _ in range(n+1)]\n",
    "\n",
    "heap=[[0,count[1],1]]\n",
    "while heap:\n",
    "    t,c,u=heapq.heappop(heap)\n",
    "    k_time[u].append(t)\n",
    "    if c>k:\n",
    "        continue\n",
    "    for v,w in graph[u]:\n",
    "        temp_time=t+w\n",
    "        if count[v]<k:\n",
    "            count[v]+=1\n",
    "            heapq.heappush(heap,[temp_time,count[v],v])\n",
    "\n",
    "for i in range(1,n+1):\n",
    "    if count[i]==k:\n",
    "        print(k_time[i][k-1])\n",
    "    else:\n",
    "        print(-1)"
   ]
  }
 ],
 "metadata": {
  "kernelspec": {
   "display_name": "Python 3.6.5 64-bit ('Anaconda3')",
   "language": "python",
   "name": "python3"
  },
  "language_info": {
   "codemirror_mode": {
    "name": "ipython",
    "version": 3
   },
   "file_extension": ".py",
   "mimetype": "text/x-python",
   "name": "python",
   "nbconvert_exporter": "python",
   "pygments_lexer": "ipython3",
   "version": "3.6.5"
  },
  "orig_nbformat": 4,
  "vscode": {
   "interpreter": {
    "hash": "81e374b3269ecf0079033d8d54c3b8445e57606735e601277613154e83e18b39"
   }
  }
 },
 "nbformat": 4,
 "nbformat_minor": 2
}
