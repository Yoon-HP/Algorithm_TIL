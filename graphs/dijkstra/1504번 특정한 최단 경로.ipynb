{
 "cells": [
  {
   "cell_type": "code",
   "execution_count": null,
   "metadata": {},
   "outputs": [],
   "source": [
    "# 1504번 특정한 최단 경로 다익스트라를 1번정점, u,v번 정점을 기준으로 시행 후 최단경로 찾기\n",
    "import heapq\n",
    "\n",
    "N,M=map(int,input().split())\n",
    "graph=[[] for _ in range(N+1)]\n",
    "for _ in range(M):\n",
    "    u,v,w=map(int,input().split())\n",
    "    graph[u].append([v,w])\n",
    "    graph[v].append([u,w])\n",
    "    \n",
    "v1,v2=map(int,input().split())\n",
    "\n",
    "def dijkstra(graph,node):\n",
    "    min_Q=[[0,node]]\n",
    "    stpath=[float('inf')]*(N+1)\n",
    "    stpath[node]=0\n",
    "    while min_Q:\n",
    "        d,u=heapq.heappop(min_Q)\n",
    "        # 이미 최단경로가 확정된 노드에 대해 불필요한 연산을 줄임\n",
    "        if stpath[u]<d:\n",
    "            continue\n",
    "        for v,w in graph[u]:\n",
    "            temp_w=w+d\n",
    "            if temp_w<stpath[v]:\n",
    "                stpath[v]=temp_w\n",
    "                heapq.heappush(min_Q,[temp_w,v])\n",
    "    return stpath\n",
    "\n",
    "st_1=dijkstra(graph,1)\n",
    "st_v1=dijkstra(graph,v1)\n",
    "st_v2=dijkstra(graph,v2)\n",
    "\n",
    "result=float('inf')\n",
    "result=min(result,st_1[v1]+st_v1[v2]+st_v2[N],st_1[v2]+st_v2[v1]+st_v1[N])\n",
    "if result==float('inf'):\n",
    "    print(-1)\n",
    "else:\n",
    "    print\n"
   ]
  },
  {
   "cell_type": "markdown",
   "metadata": {},
   "source": [
    "알고리즘 분류: 그래프 이론, 다익스트라 "
   ]
  }
 ],
 "metadata": {
  "kernelspec": {
   "display_name": "Python 3.6.5 64-bit ('Anaconda3')",
   "language": "python",
   "name": "python3"
  },
  "language_info": {
   "codemirror_mode": {
    "name": "ipython",
    "version": 3
   },
   "file_extension": ".py",
   "mimetype": "text/x-python",
   "name": "python",
   "nbconvert_exporter": "python",
   "pygments_lexer": "ipython3",
   "version": "3.6.5"
  },
  "orig_nbformat": 4,
  "vscode": {
   "interpreter": {
    "hash": "81e374b3269ecf0079033d8d54c3b8445e57606735e601277613154e83e18b39"
   }
  }
 },
 "nbformat": 4,
 "nbformat_minor": 2
}
