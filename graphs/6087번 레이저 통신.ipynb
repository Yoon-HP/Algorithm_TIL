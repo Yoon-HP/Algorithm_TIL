{
 "cells": [
  {
   "cell_type": "code",
   "execution_count": null,
   "metadata": {},
   "outputs": [],
   "source": [
    "# 6087번 레이저 통신 다익스트라+방향조절\n",
    "import heapq\n",
    "\n",
    "W,H=map(int,input().split())\n",
    "dx=[1,-1,0,0]\n",
    "dy=[0,0,1,-1]\n",
    "\n",
    "razer=[]\n",
    "Map=[list(input()) for _ in range(H)]\n",
    "\n",
    "for i in range(H):\n",
    "    for j in range(W):\n",
    "        if Map[i][j]=='C':\n",
    "            razer.append([i,j])\n",
    "\n",
    "heap=[[-1]+razer[0]+[-1]]\n",
    "\n",
    "visit=[[float('inf')]*(W) for _ in range(H)]\n",
    "visit[razer[0][0]][razer[0][1]]=-1\n",
    "while heap:\n",
    "    cnt,u,v,dir=heapq.heappop(heap)\n",
    "    for i in range(4):\n",
    "        a=u+dx[i]\n",
    "        b=v+dy[i]\n",
    "        if 0<=a<H and 0<=b<W:\n",
    "            if Map[a][b]=='.' or Map[a][b]=='C':\n",
    "                if i!=dir:\n",
    "                    if cnt+1<=visit[a][b]:\n",
    "                        heapq.heappush(heap,[cnt+1,a,b,i])\n",
    "                        visit[a][b]=cnt+1\n",
    "                else:\n",
    "                    if cnt<=visit[a][b]:\n",
    "                        heapq.heappush(heap,[cnt,a,b,i])\n",
    "                        visit[a][b]=cnt\n",
    "\n",
    "print(visit[razer[1][0]][razer[1][1]])"
   ]
  },
  {
   "cell_type": "markdown",
   "metadata": {},
   "source": [
    "일반적인 다익스트라에 방향 변수가 추가된 상태라 방문한 노드를 처리할 때 같은 가중치를 갖는 노드에 대해서 방향이 다른 경우를 포함해야함. visit를 True/False 말고 cnt 횟수를 기준으로 체크하면 된다."
   ]
  }
 ],
 "metadata": {
  "kernelspec": {
   "display_name": "Python 3.6.5 64-bit ('Anaconda3')",
   "language": "python",
   "name": "python3"
  },
  "language_info": {
   "codemirror_mode": {
    "name": "ipython",
    "version": 3
   },
   "file_extension": ".py",
   "mimetype": "text/x-python",
   "name": "python",
   "nbconvert_exporter": "python",
   "pygments_lexer": "ipython3",
   "version": "3.6.5"
  },
  "orig_nbformat": 4,
  "vscode": {
   "interpreter": {
    "hash": "81e374b3269ecf0079033d8d54c3b8445e57606735e601277613154e83e18b39"
   }
  }
 },
 "nbformat": 4,
 "nbformat_minor": 2
}
