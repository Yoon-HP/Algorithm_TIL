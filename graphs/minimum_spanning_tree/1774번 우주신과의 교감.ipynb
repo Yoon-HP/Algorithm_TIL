{
 "cells": [
  {
   "cell_type": "code",
   "execution_count": 12,
   "metadata": {},
   "outputs": [
    {
     "name": "stdout",
     "output_type": "stream",
     "text": [
      "[[3.605551275463989, 4, 1], [3.605551275463989, 1, 4], [2.23606797749979, 4, 2], [2.23606797749979, 3, 2], [2.23606797749979, 3, 1], [2.23606797749979, 2, 4], [2.23606797749979, 2, 3], [2.23606797749979, 1, 3], [2.0, 4, 3], [2.0, 3, 4], [2.0, 2, 1], [2.0, 1, 2]]\n",
      "4.00\n"
     ]
    }
   ],
   "source": [
    "# 1774번 우주신과의 교감\n",
    "N,M=map(int,input().split())\n",
    "\n",
    "def find(u):\n",
    "    if d[u]!=u:\n",
    "        d[u]=find(d[u])\n",
    "    return d[u]\n",
    "\n",
    "def union(u,v):\n",
    "    root_u=find(u)\n",
    "    root_v=find(v)\n",
    "    d[root_v]=root_u\n",
    "\n",
    "def dist(a,b):\n",
    "    return ((a[0]-b[0])**2+(a[1]-b[1])**2)**(1/2)\n",
    "\n",
    "d=[i for i in range(N+1)]\n",
    "visit=[False]*(N+1)\n",
    "cnt=0\n",
    "ans=0\n",
    "position=[[]]+[list(map(int,input().split())) for _ in range(N)]\n",
    "for _ in range(M):\n",
    "    u,v=map(int,input().split())\n",
    "    if find(u)!=find(v):\n",
    "        if not visit[u]:\n",
    "            visit[u]=True\n",
    "            cnt+=1\n",
    "        if not visit[v]:\n",
    "            visit[v]=True\n",
    "            cnt+=1\n",
    "        union(u,v)\n",
    "h=[]\n",
    "for i in range(1,N+1):\n",
    "    for j in range(1,N+1):\n",
    "        if i!=j:\n",
    "            h.append([dist(position[i],position[j]),i,j])\n",
    "                \n",
    "h.sort(reverse=True)\n",
    "while h:\n",
    "    if cnt==N:\n",
    "        break\n",
    "    w,a,b=h.pop()\n",
    "    if find(a)!=find(b):\n",
    "        if not visit[u]:\n",
    "            visit[u]=True\n",
    "            cnt+=1\n",
    "        if not visit[v]:\n",
    "            cnt+=1\n",
    "            visit[v]=True\n",
    "        union(a,b)\n",
    "        ans+=w\n",
    "print(f'{ans:.2f}')"
   ]
  },
  {
   "cell_type": "code",
   "execution_count": null,
   "metadata": {},
   "outputs": [],
   "source": []
  }
 ],
 "metadata": {
  "kernelspec": {
   "display_name": "Python 3.6.5 64-bit ('Anaconda3')",
   "language": "python",
   "name": "python3"
  },
  "language_info": {
   "codemirror_mode": {
    "name": "ipython",
    "version": 3
   },
   "file_extension": ".py",
   "mimetype": "text/x-python",
   "name": "python",
   "nbconvert_exporter": "python",
   "pygments_lexer": "ipython3",
   "version": "3.6.5"
  },
  "orig_nbformat": 4,
  "vscode": {
   "interpreter": {
    "hash": "81e374b3269ecf0079033d8d54c3b8445e57606735e601277613154e83e18b39"
   }
  }
 },
 "nbformat": 4,
 "nbformat_minor": 2
}
