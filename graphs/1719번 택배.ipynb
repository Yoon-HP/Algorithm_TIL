{
 "cells": [
  {
   "cell_type": "code",
   "execution_count": null,
   "metadata": {},
   "outputs": [],
   "source": [
    "# 1719번 택배\n",
    "import heapq\n",
    "n,m=map(int,input().split())\n",
    "graph=[[] for _ in range(n+1)]\n",
    "\n",
    "for _ in range(m):\n",
    "    a,b,t=map(int,input().split())\n",
    "    graph[a].append([b,t])\n",
    "    graph[b].append([a,t])\n",
    "\n",
    "\n",
    "path=[['-']*(n+1) for _ in range(n+1)]\n",
    "\n",
    "def dijkstra(x):\n",
    "    time=[float('inf')]*(n+1)\n",
    "    h=[[0,x,'-']]\n",
    "    visit=[False]*(n+1)\n",
    "    visit[x]=True\n",
    "    time[x]=0\n",
    "    while h:\n",
    "        t,u,p=heapq.heappop(h)\n",
    "        if t>time[u]:\n",
    "            continue\n",
    "        if not visit[u]:\n",
    "            path[x][u]=p\n",
    "            visit[u]=True\n",
    "        for v,w in graph[u]:\n",
    "            temp_t=t+w\n",
    "            if temp_t<time[v]:\n",
    "                time[v]=temp_t\n",
    "                if p=='-':\n",
    "                    heapq.heappush(h,[temp_t,v,v])\n",
    "                else:\n",
    "                    heapq.heappush(h,[temp_t,v,p])\n",
    "for i in range(1,n+1):\n",
    "    dijkstra(i)\n",
    "    \n",
    "for i in range(1,n+1):\n",
    "    for j in range(1,n+1):\n",
    "        print(path[i][j],end=' ')\n",
    "    print()"
   ]
  },
  {
   "cell_type": "markdown",
   "metadata": {},
   "source": [
    "기준이 되는 노드에서 모든 노드까지의 최단경로 중 첫번째 노드를 찾아야 하는 문제로 다익스트라를 모든 노드에 대해 돌려가며 기준이 되는 노드에서 처음 갈 수 있는 노드를 기억해 두기만 하면 풀 수 있다."
   ]
  }
 ],
 "metadata": {
  "kernelspec": {
   "display_name": "Python 3.6.5 64-bit ('Anaconda3')",
   "language": "python",
   "name": "python3"
  },
  "language_info": {
   "codemirror_mode": {
    "name": "ipython",
    "version": 3
   },
   "file_extension": ".py",
   "mimetype": "text/x-python",
   "name": "python",
   "nbconvert_exporter": "python",
   "pygments_lexer": "ipython3",
   "version": "3.6.5"
  },
  "orig_nbformat": 4,
  "vscode": {
   "interpreter": {
    "hash": "81e374b3269ecf0079033d8d54c3b8445e57606735e601277613154e83e18b39"
   }
  }
 },
 "nbformat": 4,
 "nbformat_minor": 2
}
