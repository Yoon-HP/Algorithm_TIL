{
 "cells": [
  {
   "cell_type": "code",
   "execution_count": null,
   "metadata": {},
   "outputs": [],
   "source": [
    "# 13549번 숨바꼭질 3 bfs+다익스트라\n",
    "\n",
    "from collections import deque \n",
    "import heapq\n",
    "\n",
    "n,k=map(int,input().split())\n",
    "visited=[0]*100001\n",
    "q=deque([[n,0]])\n",
    "graph=[[] for _ in range(100001)]\n",
    "while q:\n",
    "    p,t=q[0][0],q[0][1]\n",
    "    if p==k:\n",
    "        break\n",
    "    q.popleft()\n",
    "    visited[p]=1\n",
    "    if p-1>=0 and visited[p-1]==0:\n",
    "        q.append([p-1,t+1])\n",
    "        graph[p].append([p-1,1])\n",
    "    if p+1 <=100000 and visited[p+1]==0:\n",
    "        q.append([p+1,t+1])\n",
    "        graph[p].append([p+1,1])\n",
    "    if p*2 <=100000 and visited[p*2]==0:\n",
    "        q.append([p*2,t])\n",
    "        graph[p].append([p*2,0])\n",
    "        \n",
    "def dijkstra(graph,node):\n",
    "    min_Q=[[0,node]]\n",
    "    stpath=[float('inf')]*(100001)\n",
    "    stpath[node]=0\n",
    "    while min_Q:\n",
    "        d,u=heapq.heappop(min_Q)\n",
    "        # 이미 최단경로가 확정된 노드에 대해 불필요한 연산을 줄임\n",
    "        if stpath[u]<d:\n",
    "            continue\n",
    "        for v,w in graph[u]:\n",
    "            temp_w=w+d\n",
    "            if temp_w<stpath[v]:\n",
    "                stpath[v]=temp_w\n",
    "                heapq.heappush(min_Q,[temp_w,v])\n",
    "    return stpath\n",
    "\n",
    "result=dijkstra(graph,n)\n",
    "print(result[k])\n"
   ]
  },
  {
   "cell_type": "code",
   "execution_count": null,
   "metadata": {},
   "outputs": [],
   "source": [
    "# 13549번 숨바꼭질 3 bfs+우선순위 큐\n",
    "from collections import deque \n",
    "\n",
    "n,k=map(int,input().split())\n",
    "visited=[0]*100001\n",
    "q=deque([[n,0]])\n",
    "while q:\n",
    "    p,t=q[0][0],q[0][1]\n",
    "    if p==k:\n",
    "        print(t)\n",
    "        break\n",
    "    q.popleft()\n",
    "    visited[p]=1\n",
    "    if p-1>=0 and visited[p-1]==0:\n",
    "        q.append([p-1,t+1])\n",
    "    if p+1 <=100000 and visited[p+1]==0:\n",
    "        q.append([p+1,t+1])\n",
    "    if p*2 <=100000 and visited[p*2]==0:\n",
    "        q.appendleft([p*2,t])"
   ]
  }
 ],
 "metadata": {
  "kernelspec": {
   "display_name": "Python 3.6.5 64-bit ('Anaconda3')",
   "language": "python",
   "name": "python3"
  },
  "language_info": {
   "codemirror_mode": {
    "name": "ipython",
    "version": 3
   },
   "file_extension": ".py",
   "mimetype": "text/x-python",
   "name": "python",
   "nbconvert_exporter": "python",
   "pygments_lexer": "ipython3",
   "version": "3.6.5"
  },
  "orig_nbformat": 4,
  "vscode": {
   "interpreter": {
    "hash": "81e374b3269ecf0079033d8d54c3b8445e57606735e601277613154e83e18b39"
   }
  }
 },
 "nbformat": 4,
 "nbformat_minor": 2
}
