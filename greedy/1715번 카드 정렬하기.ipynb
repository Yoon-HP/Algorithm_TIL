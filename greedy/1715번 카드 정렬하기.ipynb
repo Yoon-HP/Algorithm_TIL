{
 "cells": [
  {
   "cell_type": "code",
   "execution_count": null,
   "metadata": {},
   "outputs": [],
   "source": [
    "import heapq\n",
    "\n",
    "N=int(input())\n",
    "h=[]\n",
    "ans=0\n",
    "for i in range(N):\n",
    "    heapq.heappush(h,int(input()))\n",
    "\n",
    "cnt=N\n",
    "while cnt>1:\n",
    "    first=heapq.heappop(h)\n",
    "    second=heapq.heappop(h)\n",
    "    heapq.heappush(h,first+second)\n",
    "    ans+=first+second\n",
    "    cnt-=1\n",
    "    \n",
    "print(ans)"
   ]
  },
  {
   "cell_type": "markdown",
   "metadata": {},
   "source": [
    "최소힙에서 두개씩 계속 뽑아서 더한 후 다시 힙에 넣는 과정을 반복하면 연산의 최솟값을 구할 수 있음"
   ]
  }
 ],
 "metadata": {
  "kernelspec": {
   "display_name": "Python 3.6.5 64-bit ('Anaconda3')",
   "language": "python",
   "name": "python3"
  },
  "language_info": {
   "codemirror_mode": {
    "name": "ipython",
    "version": 3
   },
   "file_extension": ".py",
   "mimetype": "text/x-python",
   "name": "python",
   "nbconvert_exporter": "python",
   "pygments_lexer": "ipython3",
   "version": "3.6.5"
  },
  "orig_nbformat": 4,
  "vscode": {
   "interpreter": {
    "hash": "81e374b3269ecf0079033d8d54c3b8445e57606735e601277613154e83e18b39"
   }
  }
 },
 "nbformat": 4,
 "nbformat_minor": 2
}
